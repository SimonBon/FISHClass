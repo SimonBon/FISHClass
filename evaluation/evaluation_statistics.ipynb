{
 "cells": [
  {
   "cell_type": "code",
   "execution_count": 1,
   "metadata": {},
   "outputs": [],
   "source": [
    "from pathlib import Path\n",
    "from FISHClass.datasets import MYCN\n",
    "from torch.utils.data import DataLoader\n",
    "import yaml\n",
    "from baseline import models\n",
    "from FISHClass.utils.evaluation import get_top_model\n",
    "from FISHClass.evaluation.evaluate_test_set import predict_test, predict_test_baseline\n",
    "from FISHClass.models import CombinedModel\n",
    "from FISHClass.utils.device import best_gpu\n",
    "import os\n",
    "import torch\n",
    "import FISHClass"
   ]
  },
  {
   "cell_type": "code",
   "execution_count": 2,
   "metadata": {},
   "outputs": [
    {
     "name": "stderr",
     "output_type": "stream",
     "text": [
      "  0%|          | 0/32 [00:00<?, ?it/s]\r  3%|▎         | 1/32 [00:01<00:35,  1.15s/it]\r  6%|▋         | 2/32 [00:01<00:22,  1.32it/s]\r  9%|▉         | 3/32 [00:01<00:13,  2.17it/s]\r 19%|█▉        | 6/32 [00:01<00:05,  4.73it/s]\r 28%|██▊       | 9/32 [00:02<00:03,  7.56it/s]\r 34%|███▍      | 11/32 [00:03<00:06,  3.31it/s]\r 44%|████▍     | 14/32 [00:04<00:06,  2.94it/s]\r 50%|█████     | 16/32 [00:04<00:04,  3.82it/s]\r 59%|█████▉    | 19/32 [00:04<00:02,  5.49it/s]\r 69%|██████▉   | 22/32 [00:05<00:01,  5.53it/s]\r 78%|███████▊  | 25/32 [00:05<00:00,  7.47it/s]\r 88%|████████▊ | 28/32 [00:05<00:00,  9.68it/s]\r 97%|█████████▋| 31/32 [00:05<00:00, 12.08it/s]\r100%|██████████| 32/32 [00:05<00:00,  5.48it/s]\n",
      "\r  0%|          | 0/32 [00:00<?, ?it/s]\r  3%|▎         | 1/32 [00:01<00:34,  1.10s/it]\r  6%|▋         | 2/32 [00:01<00:23,  1.30it/s]\r  9%|▉         | 3/32 [00:01<00:14,  1.97it/s]\r 12%|█▎        | 4/32 [00:01<00:09,  2.86it/s]\r 16%|█▌        | 5/32 [00:02<00:07,  3.49it/s]\r 19%|█▉        | 6/32 [00:02<00:05,  4.42it/s]\r 22%|██▏       | 7/32 [00:02<00:05,  4.98it/s]\r 25%|██▌       | 8/32 [00:02<00:04,  5.83it/s]\r 28%|██▊       | 9/32 [00:02<00:05,  4.16it/s]\r 31%|███▏      | 10/32 [00:03<00:05,  3.94it/s]\r 34%|███▍      | 11/32 [00:03<00:04,  4.78it/s]\r 38%|███▊      | 12/32 [00:03<00:05,  3.74it/s]\r 41%|████      | 13/32 [00:03<00:04,  4.56it/s]\r 44%|████▍     | 14/32 [00:03<00:03,  4.63it/s]\r 47%|████▋     | 15/32 [00:04<00:03,  5.20it/s]\r 50%|█████     | 16/32 [00:04<00:02,  5.74it/s]\r 53%|█████▎    | 17/32 [00:04<00:02,  6.26it/s]\r 56%|█████▋    | 18/32 [00:05<00:05,  2.68it/s]\r 59%|█████▉    | 19/32 [00:05<00:03,  3.39it/s]\r 62%|██████▎   | 20/32 [00:05<00:02,  4.11it/s]\r 66%|██████▌   | 21/32 [00:05<00:02,  4.73it/s]\r 69%|██████▉   | 22/32 [00:05<00:01,  5.16it/s]\r 72%|███████▏  | 23/32 [00:05<00:01,  5.81it/s]\r 75%|███████▌  | 24/32 [00:06<00:01,  6.54it/s]\r 78%|███████▊  | 25/32 [00:06<00:00,  7.13it/s]\r 81%|████████▏ | 26/32 [00:06<00:00,  7.65it/s]\r 84%|████████▍ | 27/32 [00:06<00:00,  8.07it/s]\r 88%|████████▊ | 28/32 [00:06<00:00,  8.39it/s]\r 91%|█████████ | 29/32 [00:06<00:00,  8.63it/s]\r 94%|█████████▍| 30/32 [00:06<00:00,  8.77it/s]\r 97%|█████████▋| 31/32 [00:06<00:00,  8.93it/s]\r100%|██████████| 32/32 [00:06<00:00,  4.70it/s]\n"
     ]
    },
    {
     "name": "stdout",
     "output_type": "stream",
     "text": [
      "<class 'FISHClass.ModelZoo.CombinedModel.CombinedModel'>\n",
      "Using cuda:1 for calculation\n"
     ]
    },
    {
     "name": "stderr",
     "output_type": "stream",
     "text": [
      "  0%|          | 0/63 [00:00<?, ?it/s]\r  2%|▏         | 1/63 [00:01<01:53,  1.84s/it]\r  3%|▎         | 2/63 [00:02<01:03,  1.04s/it]\r  5%|▍         | 3/63 [00:02<00:46,  1.28it/s]\r  6%|▋         | 4/63 [00:03<00:38,  1.52it/s]\r  8%|▊         | 5/63 [00:03<00:34,  1.68it/s]\r 10%|▉         | 6/63 [00:04<00:31,  1.80it/s]\r 11%|█         | 7/63 [00:04<00:29,  1.89it/s]\r 13%|█▎        | 8/63 [00:05<00:28,  1.96it/s]\r 14%|█▍        | 9/63 [00:05<00:26,  2.00it/s]\r 16%|█▌        | 10/63 [00:06<00:26,  2.03it/s]\r 17%|█▋        | 11/63 [00:06<00:25,  2.05it/s]\r 19%|█▉        | 12/63 [00:07<00:24,  2.07it/s]\r 21%|██        | 13/63 [00:07<00:24,  2.08it/s]\r 22%|██▏       | 14/63 [00:08<00:23,  2.09it/s]\r 24%|██▍       | 15/63 [00:08<00:22,  2.09it/s]\r 25%|██▌       | 16/63 [00:08<00:22,  2.10it/s]\r 27%|██▋       | 17/63 [00:09<00:21,  2.10it/s]\r 29%|██▊       | 18/63 [00:09<00:21,  2.10it/s]\r 30%|███       | 19/63 [00:10<00:20,  2.10it/s]\r 32%|███▏      | 20/63 [00:10<00:20,  2.11it/s]\r 33%|███▎      | 21/63 [00:11<00:20,  2.10it/s]\r 35%|███▍      | 22/63 [00:11<00:19,  2.10it/s]\r 37%|███▋      | 23/63 [00:12<00:19,  2.10it/s]\r 38%|███▊      | 24/63 [00:12<00:18,  2.10it/s]\r 40%|███▉      | 25/63 [00:13<00:18,  2.10it/s]\r 41%|████▏     | 26/63 [00:13<00:17,  2.10it/s]\r 43%|████▎     | 27/63 [00:14<00:17,  2.10it/s]\r 44%|████▍     | 28/63 [00:14<00:16,  2.10it/s]\r 46%|████▌     | 29/63 [00:15<00:16,  2.10it/s]\r 48%|████▊     | 30/63 [00:15<00:15,  2.10it/s]\r 49%|████▉     | 31/63 [00:16<00:15,  2.10it/s]\r 51%|█████     | 32/63 [00:16<00:14,  2.10it/s]\r 52%|█████▏    | 33/63 [00:17<00:14,  2.10it/s]\r 54%|█████▍    | 34/63 [00:17<00:13,  2.10it/s]\r 56%|█████▌    | 35/63 [00:18<00:13,  2.11it/s]\r 57%|█████▋    | 36/63 [00:18<00:12,  2.11it/s]\r 59%|█████▊    | 37/63 [00:18<00:12,  2.10it/s]\r 60%|██████    | 38/63 [00:19<00:11,  2.10it/s]\r 62%|██████▏   | 39/63 [00:19<00:11,  2.10it/s]\r 63%|██████▎   | 40/63 [00:20<00:10,  2.10it/s]\r 65%|██████▌   | 41/63 [00:20<00:10,  2.10it/s]\r 67%|██████▋   | 42/63 [00:21<00:09,  2.10it/s]\r 68%|██████▊   | 43/63 [00:21<00:09,  2.10it/s]\r 70%|██████▉   | 44/63 [00:22<00:09,  2.10it/s]\r 71%|███████▏  | 45/63 [00:22<00:08,  2.10it/s]\r 73%|███████▎  | 46/63 [00:23<00:08,  2.10it/s]\r 75%|███████▍  | 47/63 [00:23<00:07,  2.10it/s]\r 76%|███████▌  | 48/63 [00:24<00:07,  2.10it/s]\r 78%|███████▊  | 49/63 [00:24<00:06,  2.10it/s]\r 79%|███████▉  | 50/63 [00:25<00:06,  2.10it/s]\r 81%|████████  | 51/63 [00:25<00:05,  2.10it/s]\r 83%|████████▎ | 52/63 [00:26<00:05,  2.10it/s]\r 84%|████████▍ | 53/63 [00:26<00:04,  2.10it/s]\r 86%|████████▌ | 54/63 [00:27<00:04,  2.10it/s]\r 87%|████████▋ | 55/63 [00:27<00:03,  2.10it/s]\r 89%|████████▉ | 56/63 [00:27<00:03,  2.10it/s]\r 90%|█████████ | 57/63 [00:28<00:02,  2.10it/s]\r 92%|█████████▏| 58/63 [00:28<00:02,  2.11it/s]\r 94%|█████████▎| 59/63 [00:29<00:01,  2.11it/s]\r 95%|█████████▌| 60/63 [00:29<00:01,  2.11it/s]\r 97%|█████████▋| 61/63 [00:30<00:00,  2.11it/s]\r 98%|█████████▊| 62/63 [00:30<00:00,  2.11it/s]\r100%|██████████| 63/63 [00:31<00:00,  2.45it/s]\r100%|██████████| 63/63 [00:31<00:00,  2.02it/s]\n"
     ]
    },
    {
     "name": "stdout",
     "output_type": "stream",
     "text": [
      "<class 'FISHClass.ModelZoo.CombinedModel.CombinedModel'>\n",
      "Using cuda:2 for calculation\n"
     ]
    },
    {
     "name": "stderr",
     "output_type": "stream",
     "text": [
      "  0%|          | 0/63 [00:00<?, ?it/s]\r  2%|▏         | 1/63 [00:01<01:40,  1.63s/it]\r  3%|▎         | 2/63 [00:02<00:59,  1.03it/s]\r  5%|▍         | 3/63 [00:02<00:44,  1.34it/s]\r  6%|▋         | 4/63 [00:03<00:37,  1.57it/s]\r  8%|▊         | 5/63 [00:03<00:33,  1.73it/s]\r 10%|▉         | 6/63 [00:04<00:30,  1.84it/s]\r 11%|█         | 7/63 [00:04<00:29,  1.92it/s]\r 13%|█▎        | 8/63 [00:04<00:27,  1.98it/s]\r 14%|█▍        | 9/63 [00:05<00:26,  2.01it/s]\r 16%|█▌        | 10/63 [00:05<00:26,  2.04it/s]\r 17%|█▋        | 11/63 [00:06<00:25,  2.06it/s]\r 19%|█▉        | 12/63 [00:06<00:24,  2.08it/s]\r 21%|██        | 13/63 [00:07<00:23,  2.09it/s]\r 22%|██▏       | 14/63 [00:07<00:23,  2.10it/s]\r 24%|██▍       | 15/63 [00:08<00:22,  2.10it/s]\r 25%|██▌       | 16/63 [00:08<00:22,  2.11it/s]\r 27%|██▋       | 17/63 [00:09<00:21,  2.11it/s]\r 29%|██▊       | 18/63 [00:09<00:21,  2.11it/s]\r 30%|███       | 19/63 [00:10<00:20,  2.11it/s]\r 32%|███▏      | 20/63 [00:10<00:20,  2.11it/s]\r 33%|███▎      | 21/63 [00:11<00:19,  2.11it/s]\r 35%|███▍      | 22/63 [00:11<00:19,  2.11it/s]\r 37%|███▋      | 23/63 [00:12<00:18,  2.11it/s]\r 38%|███▊      | 24/63 [00:12<00:18,  2.11it/s]\r 40%|███▉      | 25/63 [00:13<00:18,  2.10it/s]\r 41%|████▏     | 26/63 [00:13<00:17,  2.10it/s]\r 43%|████▎     | 27/63 [00:13<00:17,  2.10it/s]\r 44%|████▍     | 28/63 [00:14<00:16,  2.10it/s]\r 46%|████▌     | 29/63 [00:14<00:16,  2.11it/s]\r 48%|████▊     | 30/63 [00:15<00:15,  2.11it/s]\r 49%|████▉     | 31/63 [00:15<00:15,  2.11it/s]\r 51%|█████     | 32/63 [00:16<00:14,  2.10it/s]\r 52%|█████▏    | 33/63 [00:16<00:14,  2.11it/s]\r 54%|█████▍    | 34/63 [00:17<00:13,  2.10it/s]\r 56%|█████▌    | 35/63 [00:17<00:13,  2.11it/s]\r 57%|█████▋    | 36/63 [00:18<00:12,  2.11it/s]\r 59%|█████▊    | 37/63 [00:18<00:12,  2.11it/s]\r 60%|██████    | 38/63 [00:19<00:11,  2.11it/s]\r 62%|██████▏   | 39/63 [00:19<00:11,  2.11it/s]\r 63%|██████▎   | 40/63 [00:20<00:10,  2.10it/s]\r 65%|██████▌   | 41/63 [00:20<00:10,  2.10it/s]\r 67%|██████▋   | 42/63 [00:21<00:09,  2.10it/s]\r 68%|██████▊   | 43/63 [00:21<00:09,  2.11it/s]\r 70%|██████▉   | 44/63 [00:22<00:09,  2.11it/s]\r 71%|███████▏  | 45/63 [00:22<00:08,  2.11it/s]\r 73%|███████▎  | 46/63 [00:23<00:08,  2.10it/s]\r 75%|███████▍  | 47/63 [00:23<00:07,  2.10it/s]\r 76%|███████▌  | 48/63 [00:23<00:07,  2.10it/s]\r 78%|███████▊  | 49/63 [00:24<00:06,  2.11it/s]\r 79%|███████▉  | 50/63 [00:24<00:06,  2.11it/s]\r 81%|████████  | 51/63 [00:25<00:05,  2.11it/s]\r 83%|████████▎ | 52/63 [00:25<00:05,  2.11it/s]\r 84%|████████▍ | 53/63 [00:26<00:04,  2.11it/s]\r 86%|████████▌ | 54/63 [00:26<00:04,  2.11it/s]\r 87%|████████▋ | 55/63 [00:27<00:03,  2.11it/s]\r 89%|████████▉ | 56/63 [00:27<00:03,  2.11it/s]\r 90%|█████████ | 57/63 [00:28<00:02,  2.11it/s]\r 92%|█████████▏| 58/63 [00:28<00:02,  2.11it/s]\r 94%|█████████▎| 59/63 [00:29<00:01,  2.11it/s]\r 95%|█████████▌| 60/63 [00:29<00:01,  2.11it/s]\r 97%|█████████▋| 61/63 [00:30<00:00,  2.11it/s]\r 98%|█████████▊| 62/63 [00:30<00:00,  2.11it/s]\r100%|██████████| 63/63 [00:30<00:00,  2.46it/s]\r100%|██████████| 63/63 [00:30<00:00,  2.03it/s]\n"
     ]
    },
    {
     "name": "stdout",
     "output_type": "stream",
     "text": [
      "<class 'FISHClass.ModelZoo.ClassificationCNN.ClassificationCNN'>\n",
      "couldtn redefine\n",
      "Using cuda:3 for calculation\n"
     ]
    },
    {
     "name": "stderr",
     "output_type": "stream",
     "text": [
      "  0%|          | 0/63 [00:00<?, ?it/s]\r  2%|▏         | 1/63 [00:01<01:43,  1.67s/it]\r 14%|█▍        | 9/63 [00:02<00:09,  5.69it/s]\r 22%|██▏       | 14/63 [00:02<00:05,  9.42it/s]\r 27%|██▋       | 17/63 [00:02<00:06,  7.37it/s]\r 37%|███▋      | 23/63 [00:02<00:03, 11.92it/s]\r 43%|████▎     | 27/63 [00:03<00:04,  8.59it/s]\r 49%|████▉     | 31/63 [00:03<00:02, 10.70it/s]\r 54%|█████▍    | 34/63 [00:04<00:02, 10.40it/s]\r 62%|██████▏   | 39/63 [00:04<00:02, 11.50it/s]\r 67%|██████▋   | 42/63 [00:04<00:01, 13.46it/s]\r 75%|███████▍  | 47/63 [00:05<00:01, 11.55it/s]\r 83%|████████▎ | 52/63 [00:05<00:00, 13.80it/s]\r 87%|████████▋ | 55/63 [00:05<00:00, 12.40it/s]\r 98%|█████████▊| 62/63 [00:05<00:00, 18.51it/s]\r100%|██████████| 63/63 [00:05<00:00, 10.50it/s]\n"
     ]
    },
    {
     "name": "stdout",
     "output_type": "stream",
     "text": [
      "<class 'FISHClass.ModelZoo.ClassificationCNN.ClassificationCNN'>\n",
      "couldtn redefine\n",
      "Using cuda:0 for calculation\n"
     ]
    },
    {
     "name": "stderr",
     "output_type": "stream",
     "text": [
      "  0%|          | 0/63 [00:00<?, ?it/s]\r  2%|▏         | 1/63 [00:01<01:50,  1.79s/it]\r 14%|█▍        | 9/63 [00:02<00:10,  5.16it/s]\r 17%|█▋        | 11/63 [00:02<00:09,  5.72it/s]\r 27%|██▋       | 17/63 [00:02<00:04, 10.25it/s]\r 32%|███▏      | 20/63 [00:03<00:04,  8.93it/s]\r 37%|███▋      | 23/63 [00:03<00:03, 10.68it/s]\r 40%|███▉      | 25/63 [00:03<00:04,  9.36it/s]\r 48%|████▊     | 30/63 [00:03<00:02, 13.50it/s]\r 52%|█████▏    | 33/63 [00:04<00:02, 10.83it/s]\r 60%|██████    | 38/63 [00:04<00:01, 14.75it/s]\r 65%|██████▌   | 41/63 [00:04<00:01, 12.26it/s]\r 73%|███████▎  | 46/63 [00:05<00:01,  9.41it/s]\r 86%|████████▌ | 54/63 [00:05<00:00, 11.98it/s]\r 92%|█████████▏| 58/63 [00:05<00:00, 14.43it/s]\r100%|██████████| 63/63 [00:06<00:00, 18.40it/s]\r100%|██████████| 63/63 [00:06<00:00, 10.20it/s]\n"
     ]
    },
    {
     "name": "stdout",
     "output_type": "stream",
     "text": [
      "<class 'FISHClass.ModelZoo.FeaturespaceClassifier.FeaturespaceClassifier'>\n",
      "Using cuda:3 for calculation\n"
     ]
    },
    {
     "name": "stderr",
     "output_type": "stream",
     "text": [
      "  0%|          | 0/63 [00:00<?, ?it/s]\r  2%|▏         | 1/63 [00:02<02:12,  2.14s/it]\r  3%|▎         | 2/63 [00:02<01:11,  1.17s/it]\r  5%|▍         | 3/63 [00:03<00:51,  1.16it/s]\r  6%|▋         | 4/63 [00:03<00:42,  1.40it/s]\r  8%|▊         | 5/63 [00:04<00:36,  1.58it/s]\r 10%|▉         | 6/63 [00:04<00:33,  1.71it/s]\r 11%|█         | 7/63 [00:05<00:30,  1.81it/s]\r 13%|█▎        | 8/63 [00:05<00:29,  1.88it/s]\r 14%|█▍        | 9/63 [00:06<00:28,  1.92it/s]\r 16%|█▌        | 10/63 [00:06<00:27,  1.96it/s]\r 17%|█▋        | 11/63 [00:07<00:26,  1.98it/s]\r 19%|█▉        | 12/63 [00:07<00:25,  2.00it/s]\r 21%|██        | 13/63 [00:08<00:24,  2.02it/s]\r 22%|██▏       | 14/63 [00:08<00:24,  2.02it/s]\r 24%|██▍       | 15/63 [00:08<00:23,  2.04it/s]\r 25%|██▌       | 16/63 [00:09<00:23,  2.04it/s]\r 27%|██▋       | 17/63 [00:09<00:22,  2.04it/s]\r 29%|██▊       | 18/63 [00:10<00:22,  2.04it/s]\r 30%|███       | 19/63 [00:10<00:21,  2.04it/s]\r 32%|███▏      | 20/63 [00:11<00:21,  2.04it/s]\r 33%|███▎      | 21/63 [00:11<00:20,  2.04it/s]\r 35%|███▍      | 22/63 [00:12<00:20,  2.04it/s]\r 37%|███▋      | 23/63 [00:12<00:19,  2.04it/s]\r 38%|███▊      | 24/63 [00:13<00:19,  2.04it/s]\r 40%|███▉      | 25/63 [00:13<00:18,  2.04it/s]\r 41%|████▏     | 26/63 [00:14<00:18,  2.04it/s]\r 43%|████▎     | 27/63 [00:14<00:17,  2.05it/s]\r 44%|████▍     | 28/63 [00:15<00:17,  2.05it/s]\r 46%|████▌     | 29/63 [00:15<00:16,  2.05it/s]\r 48%|████▊     | 30/63 [00:16<00:16,  2.05it/s]\r 49%|████▉     | 31/63 [00:16<00:15,  2.04it/s]\r 51%|█████     | 32/63 [00:17<00:15,  2.04it/s]\r 52%|█████▏    | 33/63 [00:17<00:14,  2.04it/s]\r 54%|█████▍    | 34/63 [00:18<00:14,  2.04it/s]\r 56%|█████▌    | 35/63 [00:18<00:13,  2.05it/s]\r 57%|█████▋    | 36/63 [00:19<00:13,  2.05it/s]\r 59%|█████▊    | 37/63 [00:19<00:12,  2.05it/s]\r 60%|██████    | 38/63 [00:20<00:12,  2.05it/s]\r 62%|██████▏   | 39/63 [00:20<00:11,  2.05it/s]\r 63%|██████▎   | 40/63 [00:21<00:11,  2.05it/s]\r 65%|██████▌   | 41/63 [00:21<00:10,  2.05it/s]\r 67%|██████▋   | 42/63 [00:22<00:10,  2.04it/s]\r 68%|██████▊   | 43/63 [00:22<00:09,  2.05it/s]\r 70%|██████▉   | 44/63 [00:23<00:09,  2.04it/s]\r 71%|███████▏  | 45/63 [00:23<00:08,  2.04it/s]\r 73%|███████▎  | 46/63 [00:24<00:08,  2.05it/s]\r 75%|███████▍  | 47/63 [00:24<00:07,  2.05it/s]\r 76%|███████▌  | 48/63 [00:25<00:07,  2.05it/s]\r 78%|███████▊  | 49/63 [00:25<00:06,  2.05it/s]\r 79%|███████▉  | 50/63 [00:26<00:06,  2.05it/s]\r 81%|████████  | 51/63 [00:26<00:05,  2.05it/s]\r 83%|████████▎ | 52/63 [00:27<00:05,  2.05it/s]\r 84%|████████▍ | 53/63 [00:27<00:04,  2.04it/s]\r 86%|████████▌ | 54/63 [00:28<00:04,  2.04it/s]\r 87%|████████▋ | 55/63 [00:28<00:03,  2.04it/s]\r 89%|████████▉ | 56/63 [00:29<00:03,  2.05it/s]\r 90%|█████████ | 57/63 [00:29<00:02,  2.05it/s]\r 92%|█████████▏| 58/63 [00:30<00:02,  2.04it/s]\r 94%|█████████▎| 59/63 [00:30<00:01,  2.04it/s]\r 95%|█████████▌| 60/63 [00:30<00:01,  2.04it/s]\r 97%|█████████▋| 61/63 [00:31<00:00,  2.05it/s]\r 98%|█████████▊| 62/63 [00:31<00:00,  2.04it/s]\r100%|██████████| 63/63 [00:32<00:00,  2.38it/s]\r100%|██████████| 63/63 [00:32<00:00,  1.94it/s]\n"
     ]
    },
    {
     "name": "stdout",
     "output_type": "stream",
     "text": [
      "<class 'FISHClass.ModelZoo.FeaturespaceClassifier.FeaturespaceClassifier'>\n",
      "Using cuda:0 for calculation\n"
     ]
    },
    {
     "name": "stderr",
     "output_type": "stream",
     "text": [
      "  0%|          | 0/63 [00:00<?, ?it/s]\r  2%|▏         | 1/63 [00:02<02:09,  2.09s/it]\r  3%|▎         | 2/63 [00:02<01:09,  1.15s/it]\r  5%|▍         | 3/63 [00:03<00:50,  1.18it/s]\r  6%|▋         | 4/63 [00:03<00:41,  1.42it/s]\r  8%|▊         | 5/63 [00:04<00:36,  1.60it/s]\r 10%|▉         | 6/63 [00:04<00:32,  1.73it/s]\r 11%|█         | 7/63 [00:05<00:30,  1.83it/s]\r 13%|█▎        | 8/63 [00:05<00:28,  1.90it/s]\r 14%|█▍        | 9/63 [00:05<00:27,  1.95it/s]\r 16%|█▌        | 10/63 [00:06<00:26,  1.99it/s]\r 17%|█▋        | 11/63 [00:06<00:25,  2.01it/s]\r 19%|█▉        | 12/63 [00:07<00:25,  2.03it/s]\r 21%|██        | 13/63 [00:07<00:24,  2.04it/s]\r 22%|██▏       | 14/63 [00:08<00:23,  2.05it/s]\r 24%|██▍       | 15/63 [00:08<00:23,  2.06it/s]\r 25%|██▌       | 16/63 [00:09<00:22,  2.06it/s]\r 27%|██▋       | 17/63 [00:09<00:22,  2.07it/s]\r 29%|██▊       | 18/63 [00:10<00:21,  2.07it/s]\r 30%|███       | 19/63 [00:10<00:21,  2.07it/s]\r 32%|███▏      | 20/63 [00:11<00:20,  2.07it/s]\r 33%|███▎      | 21/63 [00:11<00:20,  2.07it/s]\r 35%|███▍      | 22/63 [00:12<00:19,  2.07it/s]\r 37%|███▋      | 23/63 [00:12<00:19,  2.07it/s]\r 38%|███▊      | 24/63 [00:13<00:18,  2.07it/s]\r 40%|███▉      | 25/63 [00:13<00:18,  2.06it/s]\r 41%|████▏     | 26/63 [00:14<00:17,  2.06it/s]\r 43%|████▎     | 27/63 [00:14<00:17,  2.07it/s]\r 44%|████▍     | 28/63 [00:15<00:16,  2.06it/s]\r 46%|████▌     | 29/63 [00:15<00:16,  2.06it/s]\r 48%|████▊     | 30/63 [00:16<00:15,  2.07it/s]\r 49%|████▉     | 31/63 [00:16<00:15,  2.07it/s]\r 51%|█████     | 32/63 [00:17<00:15,  2.07it/s]\r 52%|█████▏    | 33/63 [00:17<00:14,  2.07it/s]\r 54%|█████▍    | 34/63 [00:18<00:14,  2.07it/s]\r 56%|█████▌    | 35/63 [00:18<00:13,  2.07it/s]\r 57%|█████▋    | 36/63 [00:19<00:13,  2.07it/s]\r 59%|█████▊    | 37/63 [00:19<00:12,  2.07it/s]\r 60%|██████    | 38/63 [00:19<00:12,  2.06it/s]\r 62%|██████▏   | 39/63 [00:20<00:11,  2.06it/s]\r 63%|██████▎   | 40/63 [00:20<00:11,  2.06it/s]\r 65%|██████▌   | 41/63 [00:21<00:10,  2.06it/s]\r 67%|██████▋   | 42/63 [00:21<00:10,  2.06it/s]\r 68%|██████▊   | 43/63 [00:22<00:09,  2.06it/s]\r 70%|██████▉   | 44/63 [00:22<00:09,  2.07it/s]\r 71%|███████▏  | 45/63 [00:23<00:08,  2.06it/s]\r 73%|███████▎  | 46/63 [00:23<00:08,  2.06it/s]\r 75%|███████▍  | 47/63 [00:24<00:07,  2.06it/s]\r 76%|███████▌  | 48/63 [00:24<00:07,  2.06it/s]\r 78%|███████▊  | 49/63 [00:25<00:06,  2.06it/s]\r 79%|███████▉  | 50/63 [00:25<00:06,  2.07it/s]\r 81%|████████  | 51/63 [00:26<00:05,  2.07it/s]\r 83%|████████▎ | 52/63 [00:26<00:05,  2.07it/s]\r 84%|████████▍ | 53/63 [00:27<00:04,  2.07it/s]\r 86%|████████▌ | 54/63 [00:27<00:04,  2.07it/s]\r 87%|████████▋ | 55/63 [00:28<00:03,  2.07it/s]\r 89%|████████▉ | 56/63 [00:28<00:03,  2.07it/s]\r 90%|█████████ | 57/63 [00:29<00:02,  2.07it/s]\r 92%|█████████▏| 58/63 [00:29<00:02,  2.07it/s]\r 94%|█████████▎| 59/63 [00:30<00:01,  2.07it/s]\r 95%|█████████▌| 60/63 [00:30<00:01,  2.07it/s]\r 97%|█████████▋| 61/63 [00:31<00:00,  2.07it/s]\r 98%|█████████▊| 62/63 [00:31<00:00,  2.07it/s]\r100%|██████████| 63/63 [00:31<00:00,  2.41it/s]\r100%|██████████| 63/63 [00:32<00:00,  1.96it/s]\n"
     ]
    }
   ],
   "source": [
    "DATASET = \"/data_isilon_main/isilon_images/10_MetaSystems/MetaSystemsData/MYCN_SpikeIn/TRAINING_DATA_5K.h5\"\n",
    "OUT = \"/data_isilon_main/isilon_images/10_MetaSystems/MetaSystemsData/MYCN_SpikeIn/PAPER_RESULTS/TEST_SET_5K\"\n",
    "\n",
    "with open(\"/home/simon_g/src/FISHClass/evaluation/model_evaluation.yaml\") as f:\n",
    "\n",
    "    yaml_data = yaml.load(f, Loader=yaml.FullLoader)[\"trained_model_paths\"]\n",
    "\n",
    "for model_name, model_items in yaml_data.items():\n",
    "    \n",
    "    if not isinstance(model_items, str):\n",
    "        \n",
    "        if model_items[\"model_type\"] == \"AreaModel\":\n",
    "            model = getattr(models, model_items[\"model_type\"])(**model_items[\"AreaModel_kwargs\"])\n",
    "            results = predict_test_baseline(model, DATASET, dataset_kwargs={\"norm_type\": None, \"transform\": None}, save2h5=True, save_path=os.path.join(OUT, f\"{model_name}_results.h5\"))\n",
    "    \n",
    "    \n",
    "        elif model_items[\"model_type\"] == \"SpotdetectionModel\":\n",
    "\n",
    "            model = getattr(models, model_items[\"model_type\"])(**model_items[\"SpotdetectionModel_kwargs\"])\n",
    "            results = predict_test_baseline(model, DATASET, dataset_kwargs={\"norm_type\": None, \"transform\": None}, save2h5=True, save_path=os.path.join(OUT, f\"{model_name}_results.h5\"))\n",
    "        \n",
    "    else:\n",
    "        try:\n",
    "            model = torch.load(get_top_model(model_items))[\"model\"]\n",
    "        except:\n",
    "            model = torch.load(get_top_model(model_items))\n",
    "            \n",
    "        print(type(model))\n",
    "        results= predict_test(model, DATASET, device=best_gpu(), batch_size=16, \n",
    "                              dataset_kwargs={\"double_return\": isinstance(model, (FISHClass.ModelZoo.FeaturespaceClassifier.FeaturespaceClassifier, FISHClass.ModelZoo.WeightedFeaturespaceClassifier.WeightedFeaturespaceClassifier)), \n",
    "                                              \"norm_type\": model.norm_type, \n",
    "                                              \"mask\": model.mask, \n",
    "                                              \"channels\": model.channels, \n",
    "                                              \"transform\": None}, \n",
    "                              save2h5=True, \n",
    "                              save_path=os.path.join(OUT, f\"{model_name}_results.h5\"))"
   ]
  },
  {
   "cell_type": "code",
   "execution_count": 3,
   "metadata": {},
   "outputs": [
    {
     "name": "stdout",
     "output_type": "stream",
     "text": [
      "[PosixPath('/data_isilon_main/isilon_images/10_MetaSystems/MetaSystemsData/MYCN_SpikeIn/PAPER_RESULTS/TEST_SET_5K/FS-RGB_results.h5'), PosixPath('/data_isilon_main/isilon_images/10_MetaSystems/MetaSystemsData/MYCN_SpikeIn/PAPER_RESULTS/TEST_SET_5K/AreaModel_results.h5'), PosixPath('/data_isilon_main/isilon_images/10_MetaSystems/MetaSystemsData/MYCN_SpikeIn/PAPER_RESULTS/TEST_SET_5K/SpotdetectionModel_results.h5'), PosixPath('/data_isilon_main/isilon_images/10_MetaSystems/MetaSystemsData/MYCN_SpikeIn/PAPER_RESULTS/TEST_SET_5K/CNN-GREEN-MASK_results.h5'), PosixPath('/data_isilon_main/isilon_images/10_MetaSystems/MetaSystemsData/MYCN_SpikeIn/PAPER_RESULTS/TEST_SET_5K/CNN-RGB_results.h5'), PosixPath('/data_isilon_main/isilon_images/10_MetaSystems/MetaSystemsData/MYCN_SpikeIn/PAPER_RESULTS/TEST_SET_5K/Basic-Classifier_results.h5'), PosixPath('/data_isilon_main/isilon_images/10_MetaSystems/MetaSystemsData/MYCN_SpikeIn/PAPER_RESULTS/TEST_SET_5K/LSTM-Classifier_results.h5'), PosixPath('/data_isilon_main/isilon_images/10_MetaSystems/MetaSystemsData/MYCN_SpikeIn/PAPER_RESULTS/TEST_SET_5K/FS-GREEN-MASK_results.h5')]\n"
     ]
    }
   ],
   "source": [
    "import h5py\n",
    "import numpy as np\n",
    "\n",
    "files = list(Path(\"/data_isilon_main/isilon_images/10_MetaSystems/MetaSystemsData/MYCN_SpikeIn/PAPER_RESULTS/TEST_SET_5K\").glob(\"*.h5\"))\n",
    "print(files)"
   ]
  },
  {
   "cell_type": "code",
   "execution_count": 11,
   "metadata": {},
   "outputs": [
    {
     "name": "stdout",
     "output_type": "stream",
     "text": [
      "FS-RGB_results                  PRECISION:  98.84    RECALL/SENSITIVITY:  98.46    F1:  98.65    SPECIFICITY:  98.75   \n",
      "AreaModel_results               PRECISION:  91.78    RECALL/SENSITIVITY:  92.13    F1:  91.95    SPECIFICITY:  91.02   \n",
      "SpotdetectionModel_results      PRECISION:  84.93    RECALL/SENSITIVITY:  47.6     F1:  61.01    SPECIFICITY:  90.81   \n",
      "CNN-GREEN-MASK_results          PRECISION:  98.85    RECALL/SENSITIVITY:  98.66    F1:  98.75    SPECIFICITY:  98.75   \n",
      "CNN-RGB_results                 PRECISION:  99.61    RECALL/SENSITIVITY:  99.23    F1:  99.42    SPECIFICITY:  99.58   \n",
      "Basic-Classifier_results        PRECISION:  86.2     RECALL/SENSITIVITY:  87.52    F1:  86.85    SPECIFICITY:  84.76   \n",
      "LSTM-Classifier_results         PRECISION:  97.67    RECALL/SENSITIVITY:  96.35    F1:  97.01    SPECIFICITY:  97.49   \n",
      "FS-GREEN-MASK_results           PRECISION:  98.66    RECALL/SENSITIVITY:  98.66    F1:  98.66    SPECIFICITY:  98.54   \n"
     ]
    }
   ],
   "source": [
    "import pandas as pd\n",
    "\n",
    "results_dict = {}\n",
    "for file in files: \n",
    "    \n",
    "    with h5py.File(file) as fout:\n",
    "        \n",
    "        target = np.array(fout[\"TARGET\"])\n",
    "        pred = np.array(fout[\"PRED\"])\n",
    "    \n",
    "    TP = len(np.where(np.logical_and(target == 1, pred == 1))[0])\n",
    "    TN = len(np.where(np.logical_and(target == 0, pred == 0))[0])\n",
    "    FP = len(np.where(np.logical_and(target == 0, pred == 1))[0])\n",
    "    FN = len(np.where(np.logical_and(target == 1, pred == 0))[0])\n",
    "    SPEC = np.round(TN / (TN + FP)*100,2)\n",
    "    \n",
    "    # Precision = TP / (TP + FP) \n",
    "    # Recall = TP / (TP + FN) \n",
    "    # F1 Score = 2 * Precision * Recall / (Precision + Recall)\n",
    "    \n",
    "    precision = np.round(TP/(TP+FP)*100,2)\n",
    "    recall = np.round(TP/(TP+FN)*100,2)\n",
    "    F1 = np.round(2*precision*recall/(precision+recall),2)\n",
    "    ACC = ((TP + TN) / (TP+TN+FN+FP))*100\n",
    "    \n",
    "    print(f\"{file.stem:<30}\", \" PRECISION: \", f\"{precision:<8}\", \"RECALL/SENSITIVITY: \", f\"{recall:<8}\", \"F1: \", f\"{F1:<8}\", \"SPECIFICITY: \", f\"{SPEC:<8}\")\n",
    "    results_dict[f\"{file.stem.replace('_results','')}\"] = {\n",
    "        \"precision\": \"{:.2f}\".format(precision),\n",
    "        \"recall\": recall,\n",
    "        \"F1\": F1,\n",
    "        \"specificity\": SPEC,\n",
    "        \"sensitivity\": recall,\n",
    "        \"accuracy\": ACC\n",
    "    }\n",
    "    \n",
    "results_df = pd.DataFrame(results_dict)\n",
    "results_df.to_excel(\"/data_isilon_main/isilon_images/10_MetaSystems/MetaSystemsData/MYCN_SpikeIn/PAPER_RESULTS/metric_results.xlsx\", sheet_name=\"metrics\")"
   ]
  },
  {
   "cell_type": "code",
   "execution_count": 6,
   "metadata": {},
   "outputs": [
    {
     "name": "stdout",
     "output_type": "stream",
     "text": [
      "[PosixPath('/data_isilon_main/isilon_images/10_MetaSystems/MetaSystemsData/MYCN_SpikeIn/PAPER_RESULTS/DILUTIONS/FS-RGB_results.h5'), PosixPath('/data_isilon_main/isilon_images/10_MetaSystems/MetaSystemsData/MYCN_SpikeIn/PAPER_RESULTS/DILUTIONS/AreaModel_results.h5'), PosixPath('/data_isilon_main/isilon_images/10_MetaSystems/MetaSystemsData/MYCN_SpikeIn/PAPER_RESULTS/DILUTIONS/SpotdetectionModel_results.h5'), PosixPath('/data_isilon_main/isilon_images/10_MetaSystems/MetaSystemsData/MYCN_SpikeIn/PAPER_RESULTS/DILUTIONS/CNN-GREEN-MASK_results.h5'), PosixPath('/data_isilon_main/isilon_images/10_MetaSystems/MetaSystemsData/MYCN_SpikeIn/PAPER_RESULTS/DILUTIONS/CNN-RGB_results.h5'), PosixPath('/data_isilon_main/isilon_images/10_MetaSystems/MetaSystemsData/MYCN_SpikeIn/PAPER_RESULTS/DILUTIONS/Basic-Classifier_results.h5'), PosixPath('/data_isilon_main/isilon_images/10_MetaSystems/MetaSystemsData/MYCN_SpikeIn/PAPER_RESULTS/DILUTIONS/LSTM-Classifier_results.h5'), PosixPath('/data_isilon_main/isilon_images/10_MetaSystems/MetaSystemsData/MYCN_SpikeIn/PAPER_RESULTS/DILUTIONS/FS-GREEN-MASK_results.h5')]\n"
     ]
    }
   ],
   "source": [
    "import h5py\n",
    "import numpy as np\n",
    "from pathlib import Path\n",
    "\n",
    "files = list(Path(\"/data_isilon_main/isilon_images/10_MetaSystems/MetaSystemsData/MYCN_SpikeIn/PAPER_RESULTS/DILUTIONS\").glob(\"*.h5\"))\n",
    "print(files)"
   ]
  },
  {
   "cell_type": "code",
   "execution_count": 8,
   "metadata": {},
   "outputs": [
    {
     "name": "stdout",
     "output_type": "stream",
     "text": [
      "FS-RGB_results                 PERCENTAGE:  99.7  -  11.9    PRECISION:  89.34    RECALL/SENSITIVITY:  99.7     F1:  94.24    SPECIFICITY:  88.1    \n",
      "AreaModel_results              PERCENTAGE:  93.9  -  4.37    PRECISION:  95.56    RECALL/SENSITIVITY:  93.9     F1:  94.72    SPECIFICITY:  95.63   \n",
      "SpotdetectionModel_results     PERCENTAGE:  40.17 -  2.2     PRECISION:  94.81    RECALL/SENSITIVITY:  40.17    F1:  56.43    SPECIFICITY:  97.8    \n",
      "CNN-GREEN-MASK_results         PERCENTAGE:  99.4  -  1.7     PRECISION:  98.32    RECALL/SENSITIVITY:  99.4     F1:  98.86    SPECIFICITY:  98.3    \n",
      "CNN-RGB_results                PERCENTAGE:  99.9  -  8.2     PRECISION:  92.41    RECALL/SENSITIVITY:  99.9     F1:  96.01    SPECIFICITY:  91.8    \n",
      "Basic-Classifier_results       PERCENTAGE:  94.07 -  39.1    PRECISION:  70.64    RECALL/SENSITIVITY:  94.07    F1:  80.69    SPECIFICITY:  60.9    \n",
      "LSTM-Classifier_results        PERCENTAGE:  97.03 -  4.83    PRECISION:  95.26    RECALL/SENSITIVITY:  97.03    F1:  96.14    SPECIFICITY:  95.17   \n",
      "FS-GREEN-MASK_results          PERCENTAGE:  99.13 -  1.83    PRECISION:  98.18    RECALL/SENSITIVITY:  99.13    F1:  98.65    SPECIFICITY:  98.17   \n",
      "3000 3000\n"
     ]
    }
   ],
   "source": [
    "import pandas as pd\n",
    "\n",
    "#<KeysViewHDF5 ['CLB-MA', 'S11', 'S12', 'S19', 'S1b', 'S2', 'S20', 'S29', 'S3', 'S30', 'S31', 'S32', 'S33', 'S34', 'S4', 'S6', 'S7', 'S8', 'SK-N-MM', 'SK-N-SH', 'STA-NB-10', 'STA-NB-12']>\n",
    "\n",
    "POSITIVE = \"CLB-MA\"\n",
    "NEGATIVE = \"SK-N-MM\"\n",
    "\n",
    "results_dict = {}\n",
    "for file in files: \n",
    "    \n",
    "    with h5py.File(file) as fout:\n",
    "        \n",
    "        pred_pos = np.array(fout[POSITIVE][\"PRED\"]).squeeze()\n",
    "        pred_neg = np.array(fout[NEGATIVE][\"PRED\"]).squeeze()\n",
    "        \n",
    "    TP = len(np.where(pred_pos == 1)[0])\n",
    "    TN = len(np.where(pred_neg == 0)[0])\n",
    "    FP = len(np.where(pred_neg == 1)[0])\n",
    "    FN = len(np.where(pred_pos == 0)[0])\n",
    "    SPEC = np.round(TN / (TN + FP)*100,2)\n",
    "    \n",
    "    perc_pos = np.round(pred_pos.sum()/len(pred_pos)*100,2)\n",
    "    perc_neg = np.round(pred_neg.sum()/len(pred_neg)*100,2)\n",
    "    \n",
    "    # Precision = TP / (TP + FP) \n",
    "    # Recall = TP / (TP + FN) \n",
    "    # F1 Score = 2 * Precision * Recall / (Precision + Recall)\n",
    "    \n",
    "    precision = np.round(TP/(TP+FP)*100,2)\n",
    "    recall = np.round(TP/(TP+FN)*100,2)\n",
    "    F1 = np.round(2*precision*recall/(precision+recall),2)\n",
    "    ACC = (TP+TN)/(TP+TN-FP+FN)\n",
    "    \n",
    "    print(f\"{file.stem:<30}\", \"PERCENTAGE: \", f\"{perc_pos:<6}-  {perc_neg:<6}\", \" PRECISION: \", f\"{precision:<8}\", \"RECALL/SENSITIVITY: \", f\"{recall:<8}\", \"F1: \", f\"{F1:<8}\", \"SPECIFICITY: \", f\"{SPEC:<8}\")\n",
    "    \n",
    "    results_dict[f\"{file.stem.replace('_results','')}\"] = {\n",
    "        \"precision\": precision,\n",
    "        \"recall\": recall,\n",
    "        \"F1\": F1,\n",
    "        \"specificity\": SPEC,\n",
    "        \"sensitivity\": recall,\n",
    "    }\n",
    "print(len(pred_pos), len(pred_neg))\n",
    "    \n",
    "results_df = pd.DataFrame(results_dict)\n",
    "results_df.to_excel(\"/home/simon_g/src/PAPER_RESULTS/unseen_metrics.xlsx\", sheet_name=\"metrics\")"
   ]
  },
  {
   "cell_type": "markdown",
   "metadata": {},
   "source": [
    "# Creation of all plots"
   ]
  },
  {
   "cell_type": "code",
   "execution_count": null,
   "metadata": {},
   "outputs": [],
   "source": [
    "import pandas as pd\n",
    "import seaborn as sb\n",
    "import matplotlib.pyplot as plt\n",
    "\n",
    "df_pred = pd.read_excel(\"/home/simon_g/src/results/EVALUATION/results_paper.xlsx\", sheet_name=\"predictions\", index_col=0).T\n",
    "df_diff = pd.read_excel(\"/home/simon_g/src/results/EVALUATION/results_paper.xlsx\", sheet_name=\"differences\", index_col=0).T"
   ]
  },
  {
   "cell_type": "code",
   "execution_count": null,
   "metadata": {},
   "outputs": [],
   "source": [
    "df_pred = df_pred.reindex(\n",
    "    ['AreaModel', 'SpotdetectionModel', 'BasicClassifier', 'LSTMClassifier', 'ClassificationCNN', 'FeaturespaceClassifier', 'WeightedFeaturespaceClassifier']\n",
    "    )"
   ]
  },
  {
   "cell_type": "code",
   "execution_count": null,
   "metadata": {},
   "outputs": [],
   "source": [
    "df_diff = df_diff.reindex(\n",
    "    ['AreaModel', 'SpotdetectionModel', 'BasicClassifier', 'LSTMClassifier', 'ClassificationCNN', 'FeaturespaceClassifier', 'WeightedFeaturespaceClassifier']\n",
    "    )"
   ]
  }
 ],
 "metadata": {
  "kernelspec": {
   "display_name": "Python 3.9.12 ('BB')",
   "language": "python",
   "name": "python3"
  },
  "language_info": {
   "codemirror_mode": {
    "name": "ipython",
    "version": 3
   },
   "file_extension": ".py",
   "mimetype": "text/x-python",
   "name": "python",
   "nbconvert_exporter": "python",
   "pygments_lexer": "ipython3",
   "version": "3.9.12"
  },
  "orig_nbformat": 4,
  "vscode": {
   "interpreter": {
    "hash": "9d63b14cd6ab63ec18359f1ef4f96f0821945ecd9c555e0a621512114c620b52"
   }
  }
 },
 "nbformat": 4,
 "nbformat_minor": 2
}
