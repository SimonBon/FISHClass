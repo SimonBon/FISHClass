{
 "cells": [
  {
   "cell_type": "code",
   "execution_count": 1,
   "metadata": {},
   "outputs": [],
   "source": [
    "from pathlib import Path\n",
    "from FISHClass.datasets import MYCN\n",
    "from torch.utils.data import DataLoader\n",
    "import yaml\n",
    "from baseline import models\n",
    "from FISHClass.utils.evaluation import get_top_model\n",
    "from FISHClass.evaluation.evaluate_test_set import predict_test, predict_test_baseline\n",
    "from FISHClass.models import CombinedModel\n",
    "from FISHClass.utils.device import best_gpu\n",
    "import os\n",
    "results_h5s = list(Path(\"/home/simon_g/src/results/EVALUATION\").glob(\"*.h5\"))"
   ]
  },
  {
   "cell_type": "code",
   "execution_count": 2,
   "metadata": {},
   "outputs": [
    {
     "name": "stderr",
     "output_type": "stream",
     "text": [
      "100%|██████████| 32/32 [00:04<00:00,  6.59it/s]\n"
     ]
    },
    {
     "name": "stdout",
     "output_type": "stream",
     "text": [
      "Loaded FasterRCNN from /home/simon_g/src/results/trained_models/FASTER-R-CNN/FasterRCNN_20220914_192241464.pt\n",
      "Loaded LSTMClassifier from /home/simon_g/src/results/trained_models/LSTM_MODELS/LSTMClassifier_20220915_225441081.pt\n",
      "Using cuda:1 for calculation\n"
     ]
    },
    {
     "name": "stderr",
     "output_type": "stream",
     "text": [
      "100%|██████████| 63/63 [00:33<00:00,  1.89it/s]\n"
     ]
    },
    {
     "name": "stdout",
     "output_type": "stream",
     "text": [
      "Loaded FasterRCNN from /home/simon_g/src/results/trained_models/FASTER-R-CNN/FasterRCNN_20220914_192241464.pt\n",
      "Loaded BasicClassifier from /home/simon_g/src/results/trained_models/LINEAR_MODELS/BasicClassifier_20220917_094243851.pt\n",
      "Using cuda:2 for calculation\n"
     ]
    },
    {
     "name": "stderr",
     "output_type": "stream",
     "text": [
      "100%|██████████| 63/63 [00:31<00:00,  2.01it/s]\n"
     ]
    },
    {
     "name": "stdout",
     "output_type": "stream",
     "text": [
      "Loaded ClassificationCNN from /home/simon_g/src/results/trained_models/CNN_MODELS/ClassificationCNN_20220916_095919276.pt\n",
      "Using cuda:3 for calculation\n"
     ]
    },
    {
     "name": "stderr",
     "output_type": "stream",
     "text": [
      "100%|██████████| 32/32 [00:05<00:00,  5.72it/s]\n"
     ]
    },
    {
     "name": "stdout",
     "output_type": "stream",
     "text": [
      "Loaded ClassificationCNN from /home/simon_g/src/results/trained_models/CNN_MODELS/ClassificationCNN_20220916_095919276.pt\n",
      "Loaded FasterRCNN from /home/simon_g/src/results/trained_models/FASTER-R-CNN/FasterRCNN_20220914_192241464.pt\n",
      "Loaded FeaturespaceClassifier from /home/simon_g/src/results/trained_models/FEATURESPACE_MODELS/FeaturespaceClassifier_20220917_020128922.pt\n",
      "Using cuda:2 for calculation\n"
     ]
    },
    {
     "name": "stderr",
     "output_type": "stream",
     "text": [
      "100%|██████████| 63/63 [00:31<00:00,  1.98it/s]\n"
     ]
    },
    {
     "name": "stdout",
     "output_type": "stream",
     "text": [
      "Loaded ClassificationCNN from /home/simon_g/src/results/trained_models/CNN_MODELS/ClassificationCNN_20220916_095919276.pt\n",
      "Loaded FasterRCNN from /home/simon_g/src/results/trained_models/FASTER-R-CNN/FasterRCNN_20220914_192241464.pt\n",
      "Loaded LSTMClassifier from /home/simon_g/src/results/trained_models/LSTM_MODELS/LSTMClassifier_20220915_225441081.pt\n",
      "Loaded WeightedFeaturespaceClassifier from /home/simon_g/src/results/trained_models/WEIGHTEDFEATURESPACE_MODELS/WeightedFeaturespaceClassifier_20220918_000053199.pt\n",
      "Using cuda:1 for calculation\n"
     ]
    },
    {
     "name": "stderr",
     "output_type": "stream",
     "text": [
      "100%|██████████| 63/63 [00:31<00:00,  1.99it/s]\n",
      "100%|██████████| 32/32 [00:06<00:00,  4.66it/s]\n"
     ]
    }
   ],
   "source": [
    "DATASET = \"/data_isilon_main/isilon_images/10_MetaSystems/MetaSystemsData/MYCN_SpikeIn/results/h5/trainset_S6_S12_S29_S4_S19.h5\"\n",
    "OUT = \"/home/simon_g/src/eval/test_set\"\n",
    "with open(\"/home/simon_g/src/FISHClass/evaluation/model_evaluation.yaml\") as f:\n",
    "\n",
    "    yaml_data = yaml.load(f, Loader=yaml.FullLoader)  \n",
    "\n",
    "trained_model_paths = yaml_data[\"trained_model_paths\"]\n",
    "\n",
    "models_to_test = [\"AreaModel\", \"CombinedModel\", \"ClassificationCNN\", \"FeaturespaceClassifier\", \"WeightedFeaturespaceClassifier\", \"SpotdetectionModel\"]\n",
    "combined_classifier_to_test = [\"LSTMClassifier\", \"BasicClassifier\"]\n",
    " \n",
    "for test_model in models_to_test:\n",
    "\n",
    "    if test_model == \"AreaModel\":\n",
    "        model = getattr(models, test_model)(**yaml_data[\"AreaModel_kwargs\"])\n",
    "        results = predict_test_baseline(model, DATASET, dataset_kwargs={\"norm_type\": None, \"transform\": None}, save2h5=True, save_path=os.path.join(OUT, f\"{test_model}_results.h5\"))\n",
    "\n",
    "    elif test_model == \"SpotdetectionModel\":\n",
    "\n",
    "        model = getattr(models, test_model)(**yaml_data[\"SpotdetectionModel_kwargs\"])\n",
    "        results = predict_test_baseline(model, DATASET, dataset_kwargs={\"norm_type\": None, \"transform\": None}, save2h5=True, save_path=os.path.join(OUT, f\"{test_model}_results.h5\"))\n",
    "        \n",
    "    elif test_model == \"CombinedModel\":\n",
    "        \n",
    "        for classifier in combined_classifier_to_test:\n",
    "        \n",
    "            model = CombinedModel(fasterrcnn_path=trained_model_paths[\"FasterRCNNModel\"], classification_path=trained_model_paths[classifier])\n",
    "            results= predict_test(model, DATASET, device=best_gpu(), batch_size=16, dataset_kwargs={\"norm_type\": None, \"transform\": None}, save2h5=True, save_path=os.path.join(OUT, f\"{test_model}{classifier}_results.h5\"))\n",
    "                    \n",
    "    elif test_model == \"FeaturespaceClassifier\" or test_model == \"WeightedFeaturespaceClassifier\":\n",
    "        \n",
    "        model = get_top_model(trained_model_paths[test_model])\n",
    "        results= predict_test(model, DATASET, batch_size=16, device=best_gpu(), dataset_kwargs={\"norm_type\": model.cnn_model.norm_type, \"transform\": None, \"double_return\": True}, save2h5=True, save_path=os.path.join(OUT, f\"{test_model}_results.h5\"))\n",
    "\n",
    "    else:\n",
    "        \n",
    "        model = get_top_model(trained_model_paths[test_model])\n",
    "        results = predict_test(model, DATASET, device=best_gpu(), dataset_kwargs={\"norm_type\": model.norm_type, \"transform\": None, \"double_return\": False}, save2h5=True, save_path=os.path.join(OUT, f\"{test_model}_results.h5\"))\n"
   ]
  },
  {
   "cell_type": "code",
   "execution_count": 3,
   "metadata": {},
   "outputs": [
    {
     "name": "stdout",
     "output_type": "stream",
     "text": [
      "[PosixPath('/home/simon_g/src/eval/test_set/SpotdetectionModel_results.h5'), PosixPath('/home/simon_g/src/eval/test_set/AreaModel_results.h5'), PosixPath('/home/simon_g/src/eval/test_set/FeaturespaceClassifier_results.h5'), PosixPath('/home/simon_g/src/eval/test_set/CombinedModelLSTMClassifier_results.h5'), PosixPath('/home/simon_g/src/eval/test_set/WeightedFeaturespaceClassifier_results.h5'), PosixPath('/home/simon_g/src/eval/test_set/CombinedModelBasicClassifier_results.h5'), PosixPath('/home/simon_g/src/eval/test_set/ClassificationCNN_results.h5')]\n"
     ]
    }
   ],
   "source": [
    "import h5py\n",
    "import numpy as np\n",
    "\n",
    "files = list(Path(\"/home/simon_g/src/eval/test_set\").glob(\"*.h5\"))\n",
    "print(files)"
   ]
  },
  {
   "cell_type": "code",
   "execution_count": 38,
   "metadata": {},
   "outputs": [
    {
     "name": "stdout",
     "output_type": "stream",
     "text": [
      "SpotdetectionModel_results                PRECISION:  80.74    RECALL/SENSITIVITY:  44.67    F1:  57.52    SPECIFICITY:  89.84   \n",
      "AreaModel_results                         PRECISION:  92.02    RECALL/SENSITIVITY:  92.21    F1:  92.11    SPECIFICITY:  92.38   \n",
      "FeaturespaceClassifier_results            PRECISION:  100.0    RECALL/SENSITIVITY:  97.34    F1:  98.65    SPECIFICITY:  100.0   \n",
      "CombinedModelLSTMClassifier_results       PRECISION:  96.51    RECALL/SENSITIVITY:  96.31    F1:  96.41    SPECIFICITY:  96.68   \n",
      "WeightedFeaturespaceClassifier_results    PRECISION:  99.39    RECALL/SENSITIVITY:  99.59    F1:  99.49    SPECIFICITY:  99.41   \n",
      "CombinedModelBasicClassifier_results      PRECISION:  81.6     RECALL/SENSITIVITY:  89.96    F1:  85.58    SPECIFICITY:  80.66   \n",
      "ClassificationCNN_results                 PRECISION:  99.18    RECALL/SENSITIVITY:  99.39    F1:  99.28    SPECIFICITY:  99.22   \n"
     ]
    }
   ],
   "source": [
    "for file in files: \n",
    "    \n",
    "    with h5py.File(file) as fout:\n",
    "        \n",
    "        target = np.array(fout[\"TARGET\"])\n",
    "        pred = np.array(fout[\"PRED\"])\n",
    "        \n",
    "    TP = len(np.where(np.logical_and(target == 1, pred == 1))[0])\n",
    "    TN = len(np.where(np.logical_and(target == 0, pred == 0))[0])\n",
    "    FP = len(np.where(np.logical_and(target == 0, pred == 1))[0])\n",
    "    FN = len(np.where(np.logical_and(target == 1, pred == 0))[0])\n",
    "    SPEC = np.round(TN / (TN + FP)*100,2)\n",
    "    \n",
    "    # Precision = TP / (TP + FP) \n",
    "    # Recall = TP / (TP + FN) \n",
    "    # F1 Score = 2 * Precision * Recall / (Precision + Recall)\n",
    "    \n",
    "    precision = np.round(TP/(TP+FP)*100,2)\n",
    "    recall = np.round(TP/(TP+FN)*100,2)\n",
    "    F1 = np.round(2*precision*recall/(precision+recall),2)\n",
    "    \n",
    "    print(f\"{file.stem:<40}\", \" PRECISION: \", f\"{precision:<8}\", \"RECALL/SENSITIVITY: \", f\"{recall:<8}\", \"F1: \", f\"{F1:<8}\", \"SPECIFICITY: \", f\"{SPEC:<8}\")"
   ]
  },
  {
   "cell_type": "code",
   "execution_count": null,
   "metadata": {},
   "outputs": [],
   "source": []
  }
 ],
 "metadata": {
  "kernelspec": {
   "display_name": "Python 3.9.12 ('BB')",
   "language": "python",
   "name": "python3"
  },
  "language_info": {
   "codemirror_mode": {
    "name": "ipython",
    "version": 3
   },
   "file_extension": ".py",
   "mimetype": "text/x-python",
   "name": "python",
   "nbconvert_exporter": "python",
   "pygments_lexer": "ipython3",
   "version": "3.9.12"
  },
  "orig_nbformat": 4,
  "vscode": {
   "interpreter": {
    "hash": "9d63b14cd6ab63ec18359f1ef4f96f0821945ecd9c555e0a621512114c620b52"
   }
  }
 },
 "nbformat": 4,
 "nbformat_minor": 2
}
