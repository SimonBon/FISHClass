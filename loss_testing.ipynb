{
 "cells": [
  {
   "cell_type": "markdown",
   "metadata": {},
   "source": [
    "### Loss Testing"
   ]
  },
  {
   "cell_type": "code",
   "execution_count": 25,
   "metadata": {},
   "outputs": [],
   "source": [
    "import torch\n",
    "from FISHClass.utils.evaluation import get_top_model\n",
    "from FISHClass.datasets import MYCN\n",
    "from torch.utils.data import DataLoader\n",
    "from FISHClass.utils.device import best_gpu\n",
    "import matplotlib.pyplot as plt\n",
    "from FISHClass.utils.visualize import bbox_on_image\n",
    "import numpy as np\n",
    "from tqdm import tqdm"
   ]
  },
  {
   "cell_type": "code",
   "execution_count": 26,
   "metadata": {},
   "outputs": [],
   "source": [
    "model = torch.load(get_top_model(\"/data_isilon_main/isilon_images/10_MetaSystems/MetaSystemsData/MYCN_SpikeIn/TRAIN_RESULTS/FASTER-R-CNN/EXP_1\"))[\"model\"]"
   ]
  },
  {
   "cell_type": "code",
   "execution_count": 27,
   "metadata": {},
   "outputs": [],
   "source": [
    "dataset = MYCN(\"/data_isilon_main/isilon_images/10_MetaSystems/MetaSystemsData/MYCN_SpikeIn/TRAINING_DATA_5K.h5\", \"train\")\n",
    "dataloader = DataLoader(dataset, batch_size=16, shuffle=False)"
   ]
  },
  {
   "cell_type": "code",
   "execution_count": 28,
   "metadata": {},
   "outputs": [
    {
     "name": "stderr",
     "output_type": "stream",
     "text": [
      "  0%|          | 0/500 [00:00<?, ?it/s]\r  0%|          | 1/500 [00:00<05:17,  1.57it/s]\r  0%|          | 2/500 [00:01<05:32,  1.50it/s]\r  1%|          | 3/500 [00:01<05:24,  1.53it/s]\r  1%|          | 4/500 [00:02<05:17,  1.56it/s]\r  1%|          | 5/500 [00:03<05:13,  1.58it/s]\r  1%|          | 6/500 [00:03<05:10,  1.59it/s]\r  1%|▏         | 7/500 [00:04<05:08,  1.60it/s]\r  2%|▏         | 8/500 [00:05<05:08,  1.59it/s]\r  2%|▏         | 9/500 [00:05<05:12,  1.57it/s]\r  2%|▏         | 10/500 [00:06<05:09,  1.58it/s]\r  2%|▏         | 11/500 [00:06<05:11,  1.57it/s]\r  2%|▏         | 12/500 [00:07<05:07,  1.59it/s]\r  3%|▎         | 13/500 [00:08<05:11,  1.57it/s]\r  3%|▎         | 14/500 [00:08<05:08,  1.58it/s]\r  3%|▎         | 15/500 [00:09<05:04,  1.59it/s]\r  3%|▎         | 16/500 [00:10<05:04,  1.59it/s]\r  3%|▎         | 17/500 [00:10<05:03,  1.59it/s]\r  4%|▎         | 18/500 [00:11<05:07,  1.57it/s]\r  4%|▍         | 19/500 [00:12<05:04,  1.58it/s]\r  4%|▍         | 20/500 [00:12<05:05,  1.57it/s]\r  4%|▍         | 21/500 [00:13<05:02,  1.58it/s]\r  4%|▍         | 22/500 [00:13<05:06,  1.56it/s]\r  5%|▍         | 23/500 [00:14<05:05,  1.56it/s]\r  5%|▍         | 24/500 [00:15<05:08,  1.54it/s]\r  5%|▌         | 25/500 [00:15<05:06,  1.55it/s]\r  5%|▌         | 26/500 [00:16<05:05,  1.55it/s]\r  5%|▌         | 27/500 [00:17<05:05,  1.55it/s]\r  6%|▌         | 28/500 [00:17<05:06,  1.54it/s]\r  6%|▌         | 29/500 [00:18<05:10,  1.52it/s]\r  6%|▌         | 30/500 [00:19<05:08,  1.52it/s]\r  6%|▌         | 31/500 [00:19<05:12,  1.50it/s]\r  6%|▋         | 32/500 [00:20<05:09,  1.51it/s]\r  7%|▋         | 33/500 [00:21<05:11,  1.50it/s]\r  7%|▋         | 34/500 [00:21<05:07,  1.52it/s]\r  7%|▋         | 35/500 [00:22<05:24,  1.43it/s]\r  7%|▋         | 36/500 [00:23<05:16,  1.46it/s]\r  7%|▋         | 37/500 [00:23<05:15,  1.47it/s]\r  8%|▊         | 38/500 [00:24<05:08,  1.50it/s]\r  8%|▊         | 39/500 [00:25<05:08,  1.49it/s]\r  8%|▊         | 40/500 [00:25<05:04,  1.51it/s]\r  8%|▊         | 41/500 [00:26<05:01,  1.52it/s]\r  8%|▊         | 42/500 [00:27<04:59,  1.53it/s]\r  9%|▊         | 43/500 [00:27<04:56,  1.54it/s]\r  9%|▉         | 44/500 [00:28<04:56,  1.54it/s]\r  9%|▉         | 45/500 [00:29<04:55,  1.54it/s]\r  9%|▉         | 46/500 [00:29<04:55,  1.54it/s]\r  9%|▉         | 47/500 [00:30<04:54,  1.54it/s]\r 10%|▉         | 48/500 [00:31<04:57,  1.52it/s]\r 10%|▉         | 49/500 [00:31<04:54,  1.53it/s]\r 10%|█         | 50/500 [00:32<04:56,  1.52it/s]\r 10%|█         | 51/500 [00:33<04:54,  1.53it/s]\r 10%|█         | 52/500 [00:33<04:55,  1.52it/s]\r 11%|█         | 53/500 [00:34<04:51,  1.53it/s]\r 11%|█         | 54/500 [00:35<04:49,  1.54it/s]\r 11%|█         | 55/500 [00:35<04:54,  1.51it/s]\r 11%|█         | 56/500 [00:36<04:50,  1.53it/s]\r 11%|█▏        | 57/500 [00:37<04:49,  1.53it/s]\r 12%|█▏        | 58/500 [00:37<04:49,  1.53it/s]\r 12%|█▏        | 59/500 [00:38<04:48,  1.53it/s]\r 12%|█▏        | 60/500 [00:38<04:44,  1.54it/s]\r 12%|█▏        | 61/500 [00:39<04:41,  1.56it/s]\r 12%|█▏        | 62/500 [00:42<10:31,  1.44s/it]\r 12%|█▏        | 62/500 [00:43<05:07,  1.42it/s]\n"
     ]
    }
   ],
   "source": [
    "device = best_gpu()\n",
    "model.eval()\n",
    "model.to(device)\n",
    "areas = []\n",
    "for X, y in tqdm(dataloader):\n",
    "    \n",
    "    ret = model(X.to(device))\n",
    "    \n",
    "    for r, x, t in zip(ret,X, y):\n",
    "        labels = r[\"labels\"]\n",
    "        boxes = r[\"boxes\"][labels != 1]\n",
    "        scores = r[\"scores\"][labels != 1]\n",
    "        labels = labels[labels != 1]\n",
    "        r[\"image\"] = x\n",
    "        \n",
    "        A, B = torch.where(x[2]!=0)\n",
    "        sz = (A.max()-A.min())*(B.max()-B.min())\n",
    "        area = torch.clip(torch.sum((boxes[:,2]-boxes[:,0]) * (boxes[:,3]-boxes[:,1])*scores)/sz,0,1).item()\n",
    "        areas.append((area,t))\n",
    "    #for v,s in zip(((boxes[:,2]-boxes[:,0]) * (boxes[:,3]-boxes[:,1])), scores):\n",
    "        #print(v.item(),s.item())\n",
    "    #plt.imshow(bbox_on_image(ret, ret=True))\n",
    "    #plt.show()\n",
    "    if len(areas) > 1000:\n",
    "        break\n",
    "    "
   ]
  },
  {
   "cell_type": "code",
   "execution_count": 29,
   "metadata": {},
   "outputs": [],
   "source": [
    "areas = np.array(areas)"
   ]
  },
  {
   "cell_type": "code",
   "execution_count": 30,
   "metadata": {},
   "outputs": [],
   "source": [
    "a = areas[:, 0]\n",
    "y = areas[:, 1]"
   ]
  },
  {
   "cell_type": "code",
   "execution_count": 31,
   "metadata": {},
   "outputs": [
    {
     "data": {
      "image/png": "[encoded data removed]",
      "text/plain": [
       "<Figure size 640x480 with 1 Axes>"
      ]
     },
     "metadata": {},
     "output_type": "display_data"
    },
    {
     "data": {
      "image/png": "[encoded data removed]",
      "text/plain": [
       "<Figure size 640x480 with 1 Axes>"
      ]
     },
     "metadata": {},
     "output_type": "display_data"
    }
   ],
   "source": [
    "plt.hist(a[y==0], bins=100, alpha=.5, cumulative=True)\n",
    "plt.hist(a[y==1], bins=100, alpha=.5, cumulative=True)\n",
    "plt.show()\n",
    "\n",
    "plt.hist(a[y==0], bins=100, alpha=.5)\n",
    "plt.hist(a[y==1], bins=100, alpha=.5)\n",
    "plt.show()"
   ]
  },
  {
   "cell_type": "code",
   "execution_count": null,
   "metadata": {},
   "outputs": [],
   "source": [
    "import numpy as np\n",
    "x = torch.tensor(np.linspace(0,1, 1000))\n",
    "y = -torch.log(x)\n",
    "y2 = 0.5*-torch.log(1-torch.abs(x-1))\n",
    "\n",
    "plt.plot(x,y)\n",
    "plt.plot(x,y2)"
   ]
  },
  {
   "cell_type": "code",
   "execution_count": 3,
   "metadata": {},
   "outputs": [],
   "source": [
    "model = torch.load(get_top_model(\"/data_isilon_main/isilon_images/10_MetaSystems/MetaSystemsData/MYCN_SpikeIn/TRAIN_RESULTS/FEATURESPACE/EXP_1\"))[\"model\"]"
   ]
  },
  {
   "cell_type": "code",
   "execution_count": 15,
   "metadata": {},
   "outputs": [],
   "source": [
    "from matplotlib.pyplot import cla\n",
    "\n",
    "\n",
    "def get_cell_bbox(patch):\n",
    "    \n",
    "    A, B = torch.where(patch[2]!=0)\n",
    "    sz = (A.max()-A.min())*(B.max()-B.min())\n",
    "    return sz\n",
    "\n",
    "def get_bbox_size(patch_fs):\n",
    "    \n",
    "    x0, y0, x1, y1 = patch_fs[:,0], patch_fs[:,1], patch_fs[:,2], patch_fs[:,3]\n",
    "    c = patch_fs[:,4]\n",
    "    s = patch_fs[:,5]\n",
    "    \n",
    "    area = torch.sum((x1-x0) * (y1-y0)*s)\n",
    "\n",
    "    return area"
   ]
  },
  {
   "cell_type": "code",
   "execution_count": 24,
   "metadata": {},
   "outputs": [
    {
     "name": "stderr",
     "output_type": "stream",
     "text": [
      "  0%|          | 0/500 [00:00<?, ?it/s]\r  0%|          | 1/500 [00:00<05:25,  1.53it/s]"
     ]
    },
    {
     "name": "stdout",
     "output_type": "stream",
     "text": [
      "tensor([0.0999, 0.7408, 0.1327, 0.6472, 1.0000, 0.6058, 1.0000, 0.1407, 0.1295,\n",
      "        0.0660, 0.2715, 0.8426, 0.1018, 0.1525, 0.1077, 0.0572])\n"
     ]
    },
    {
     "name": "stderr",
     "output_type": "stream",
     "text": [
      "  0%|          | 2/500 [00:01<05:18,  1.56it/s]"
     ]
    },
    {
     "name": "stdout",
     "output_type": "stream",
     "text": [
      "tensor([0.0795, 0.1338, 0.0877, 0.0913, 0.3307, 0.0369, 0.1944, 0.7890, 0.0134,\n",
      "        0.1535, 0.4670, 0.1285, 0.4067, 0.0674, 0.0813, 0.1316])\n"
     ]
    },
    {
     "name": "stderr",
     "output_type": "stream",
     "text": [
      "  1%|          | 3/500 [00:01<05:15,  1.58it/s]"
     ]
    },
    {
     "name": "stdout",
     "output_type": "stream",
     "text": [
      "tensor([0.0564, 0.2764, 0.3469, 1.0000, 0.0902, 0.1175, 0.1187, 0.1148, 0.7378,\n",
      "        0.1361, 0.1610, 0.6073, 0.1165, 0.2628, 0.0476, 0.5773])\n"
     ]
    },
    {
     "name": "stderr",
     "output_type": "stream",
     "text": [
      "  1%|          | 4/500 [00:02<05:10,  1.60it/s]"
     ]
    },
    {
     "name": "stdout",
     "output_type": "stream",
     "text": [
      "tensor([0.7690, 0.2218, 0.1280, 0.0892, 0.0318, 0.2241, 0.0865, 0.1122, 0.0799,\n",
      "        0.0958, 0.0581, 0.2987, 0.3100, 0.0812, 0.3880, 0.0561])\n"
     ]
    },
    {
     "name": "stderr",
     "output_type": "stream",
     "text": [
      "  1%|          | 5/500 [00:03<05:07,  1.61it/s]"
     ]
    },
    {
     "name": "stdout",
     "output_type": "stream",
     "text": [
      "tensor([0.6079, 0.1256, 0.0303, 0.2474, 0.0943, 0.3409, 1.0000, 0.7957, 0.4551,\n",
      "        0.0713, 0.9321, 0.0387, 0.6134, 0.1579, 0.2748, 0.0966])\n"
     ]
    },
    {
     "name": "stderr",
     "output_type": "stream",
     "text": [
      "  1%|          | 6/500 [00:03<05:04,  1.62it/s]"
     ]
    },
    {
     "name": "stdout",
     "output_type": "stream",
     "text": [
      "tensor([0.5279, 0.2834, 1.0000, 0.6737, 0.0659, 0.0774, 0.0157, 0.0785, 0.1332,\n",
      "        0.4730, 0.5926, 0.1569, 1.0000, 0.3076, 0.6731, 0.4385])\n"
     ]
    },
    {
     "name": "stderr",
     "output_type": "stream",
     "text": [
      "  1%|▏         | 7/500 [00:04<05:03,  1.62it/s]"
     ]
    },
    {
     "name": "stdout",
     "output_type": "stream",
     "text": [
      "tensor([0.1213, 0.0320, 0.3243, 0.0502, 0.2650, 0.1965, 0.7542, 0.0844, 0.1431,\n",
      "        0.0350, 0.6622, 0.2675, 1.0000, 0.1328, 0.3124, 0.4693])\n"
     ]
    },
    {
     "name": "stderr",
     "output_type": "stream",
     "text": [
      "  2%|▏         | 8/500 [00:04<05:03,  1.62it/s]"
     ]
    },
    {
     "name": "stdout",
     "output_type": "stream",
     "text": [
      "tensor([0.1243, 0.1240, 0.1288, 0.3077, 1.0000, 0.1656, 0.3199, 0.1844, 0.0603,\n",
      "        0.2665, 0.3929, 0.2061, 0.1497, 0.1120, 0.2780, 0.6691])\n"
     ]
    },
    {
     "name": "stderr",
     "output_type": "stream",
     "text": [
      "  2%|▏         | 8/500 [00:05<05:36,  1.46it/s]\n"
     ]
    },
    {
     "ename": "KeyboardInterrupt",
     "evalue": "",
     "output_type": "error",
     "traceback": [
      "\u001b[0;31m---------------------------------------------------------------------------\u001b[0m",
      "\u001b[0;31mKeyboardInterrupt\u001b[0m                         Traceback (most recent call last)",
      "\u001b[1;32mUntitled-1.ipynb Cell 12\u001b[0m in \u001b[0;36m<cell line: 8>\u001b[0;34m()\u001b[0m\n\u001b[1;32m      <a href='vscode-notebook-cell:Untitled-1.ipynb?jupyter-notebook#X23sdW50aXRsZWQ%3D?line=6'>7</a>\u001b[0m areas \u001b[39m=\u001b[39m []\n\u001b[1;32m      <a href='vscode-notebook-cell:Untitled-1.ipynb?jupyter-notebook#X23sdW50aXRsZWQ%3D?line=7'>8</a>\u001b[0m \u001b[39mfor\u001b[39;00m X, X2, y \u001b[39min\u001b[39;00m tqdm(dataloader):\n\u001b[0;32m---> <a href='vscode-notebook-cell:Untitled-1.ipynb?jupyter-notebook#X23sdW50aXRsZWQ%3D?line=9'>10</a>\u001b[0m     y, fs \u001b[39m=\u001b[39m model(X\u001b[39m.\u001b[39;49mto(device), X2\u001b[39m.\u001b[39;49mto(device), return_box_fs\u001b[39m=\u001b[39;49m\u001b[39mTrue\u001b[39;49;00m)\n\u001b[1;32m     <a href='vscode-notebook-cell:Untitled-1.ipynb?jupyter-notebook#X23sdW50aXRsZWQ%3D?line=10'>11</a>\u001b[0m     fs \u001b[39m=\u001b[39m fs\u001b[39m.\u001b[39mreshape(\u001b[39m-\u001b[39m\u001b[39m1\u001b[39m, \u001b[39m100\u001b[39m, \u001b[39m6\u001b[39m)\n\u001b[1;32m     <a href='vscode-notebook-cell:Untitled-1.ipynb?jupyter-notebook#X23sdW50aXRsZWQ%3D?line=12'>13</a>\u001b[0m     sizes \u001b[39m=\u001b[39m torch\u001b[39m.\u001b[39mtensor([get_cell_bbox(patch) \u001b[39mfor\u001b[39;00m patch \u001b[39min\u001b[39;00m X2])\n",
      "File \u001b[0;32m~/anaconda3/envs/BB/lib/python3.9/site-packages/torch/nn/modules/module.py:1130\u001b[0m, in \u001b[0;36mModule._call_impl\u001b[0;34m(self, *input, **kwargs)\u001b[0m\n\u001b[1;32m   1126\u001b[0m \u001b[39m# If we don't have any hooks, we want to skip the rest of the logic in\u001b[39;00m\n\u001b[1;32m   1127\u001b[0m \u001b[39m# this function, and just call forward.\u001b[39;00m\n\u001b[1;32m   1128\u001b[0m \u001b[39mif\u001b[39;00m \u001b[39mnot\u001b[39;00m (\u001b[39mself\u001b[39m\u001b[39m.\u001b[39m_backward_hooks \u001b[39mor\u001b[39;00m \u001b[39mself\u001b[39m\u001b[39m.\u001b[39m_forward_hooks \u001b[39mor\u001b[39;00m \u001b[39mself\u001b[39m\u001b[39m.\u001b[39m_forward_pre_hooks \u001b[39mor\u001b[39;00m _global_backward_hooks\n\u001b[1;32m   1129\u001b[0m         \u001b[39mor\u001b[39;00m _global_forward_hooks \u001b[39mor\u001b[39;00m _global_forward_pre_hooks):\n\u001b[0;32m-> 1130\u001b[0m     \u001b[39mreturn\u001b[39;00m forward_call(\u001b[39m*\u001b[39;49m\u001b[39minput\u001b[39;49m, \u001b[39m*\u001b[39;49m\u001b[39m*\u001b[39;49mkwargs)\n\u001b[1;32m   1131\u001b[0m \u001b[39m# Do not call functions when jit is used\u001b[39;00m\n\u001b[1;32m   1132\u001b[0m full_backward_hooks, non_full_backward_hooks \u001b[39m=\u001b[39m [], []\n",
      "File \u001b[0;32m~/src/FISHClass/ModelZoo/FeaturespaceClassifier.py:84\u001b[0m, in \u001b[0;36mFeaturespaceClassifier.forward\u001b[0;34m(self, X, X2, verbose, verbose_threshold, return_box_fs)\u001b[0m\n\u001b[1;32m     82\u001b[0m cnn_out \u001b[39m=\u001b[39m \u001b[39mself\u001b[39m\u001b[39m.\u001b[39mcnn_model(X2, return_feature_space\u001b[39m=\u001b[39m\u001b[39mTrue\u001b[39;00m, return_prediction\u001b[39m=\u001b[39m\u001b[39mFalse\u001b[39;00m)\n\u001b[1;32m     83\u001b[0m cnn_out \u001b[39m=\u001b[39m cnn_out\u001b[39m.\u001b[39mdetach()\n\u001b[0;32m---> 84\u001b[0m box_out \u001b[39m=\u001b[39m \u001b[39mself\u001b[39;49m\u001b[39m.\u001b[39;49mbox_model(X)\n\u001b[1;32m     86\u001b[0m box_feature_space \u001b[39m=\u001b[39m out2np(box_out, device\u001b[39m=\u001b[39m\u001b[39mself\u001b[39m\u001b[39m.\u001b[39mdevice)\n\u001b[1;32m     88\u001b[0m \u001b[39mif\u001b[39;00m verbose:\n",
      "File \u001b[0;32m~/anaconda3/envs/BB/lib/python3.9/site-packages/torch/nn/modules/module.py:1130\u001b[0m, in \u001b[0;36mModule._call_impl\u001b[0;34m(self, *input, **kwargs)\u001b[0m\n\u001b[1;32m   1126\u001b[0m \u001b[39m# If we don't have any hooks, we want to skip the rest of the logic in\u001b[39;00m\n\u001b[1;32m   1127\u001b[0m \u001b[39m# this function, and just call forward.\u001b[39;00m\n\u001b[1;32m   1128\u001b[0m \u001b[39mif\u001b[39;00m \u001b[39mnot\u001b[39;00m (\u001b[39mself\u001b[39m\u001b[39m.\u001b[39m_backward_hooks \u001b[39mor\u001b[39;00m \u001b[39mself\u001b[39m\u001b[39m.\u001b[39m_forward_hooks \u001b[39mor\u001b[39;00m \u001b[39mself\u001b[39m\u001b[39m.\u001b[39m_forward_pre_hooks \u001b[39mor\u001b[39;00m _global_backward_hooks\n\u001b[1;32m   1129\u001b[0m         \u001b[39mor\u001b[39;00m _global_forward_hooks \u001b[39mor\u001b[39;00m _global_forward_pre_hooks):\n\u001b[0;32m-> 1130\u001b[0m     \u001b[39mreturn\u001b[39;00m forward_call(\u001b[39m*\u001b[39;49m\u001b[39minput\u001b[39;49m, \u001b[39m*\u001b[39;49m\u001b[39m*\u001b[39;49mkwargs)\n\u001b[1;32m   1131\u001b[0m \u001b[39m# Do not call functions when jit is used\u001b[39;00m\n\u001b[1;32m   1132\u001b[0m full_backward_hooks, non_full_backward_hooks \u001b[39m=\u001b[39m [], []\n",
      "File \u001b[0;32m~/anaconda3/envs/BB/lib/python3.9/site-packages/torchvision/models/detection/generalized_rcnn.py:104\u001b[0m, in \u001b[0;36mGeneralizedRCNN.forward\u001b[0;34m(self, images, targets)\u001b[0m\n\u001b[1;32m    102\u001b[0m \u001b[39mif\u001b[39;00m \u001b[39misinstance\u001b[39m(features, torch\u001b[39m.\u001b[39mTensor):\n\u001b[1;32m    103\u001b[0m     features \u001b[39m=\u001b[39m OrderedDict([(\u001b[39m\"\u001b[39m\u001b[39m0\u001b[39m\u001b[39m\"\u001b[39m, features)])\n\u001b[0;32m--> 104\u001b[0m proposals, proposal_losses \u001b[39m=\u001b[39m \u001b[39mself\u001b[39;49m\u001b[39m.\u001b[39;49mrpn(images, features, targets)\n\u001b[1;32m    105\u001b[0m detections, detector_losses \u001b[39m=\u001b[39m \u001b[39mself\u001b[39m\u001b[39m.\u001b[39mroi_heads(features, proposals, images\u001b[39m.\u001b[39mimage_sizes, targets)\n\u001b[1;32m    106\u001b[0m detections \u001b[39m=\u001b[39m \u001b[39mself\u001b[39m\u001b[39m.\u001b[39mtransform\u001b[39m.\u001b[39mpostprocess(detections, images\u001b[39m.\u001b[39mimage_sizes, original_image_sizes)  \u001b[39m# type: ignore[operator]\u001b[39;00m\n",
      "File \u001b[0;32m~/anaconda3/envs/BB/lib/python3.9/site-packages/torch/nn/modules/module.py:1130\u001b[0m, in \u001b[0;36mModule._call_impl\u001b[0;34m(self, *input, **kwargs)\u001b[0m\n\u001b[1;32m   1126\u001b[0m \u001b[39m# If we don't have any hooks, we want to skip the rest of the logic in\u001b[39;00m\n\u001b[1;32m   1127\u001b[0m \u001b[39m# this function, and just call forward.\u001b[39;00m\n\u001b[1;32m   1128\u001b[0m \u001b[39mif\u001b[39;00m \u001b[39mnot\u001b[39;00m (\u001b[39mself\u001b[39m\u001b[39m.\u001b[39m_backward_hooks \u001b[39mor\u001b[39;00m \u001b[39mself\u001b[39m\u001b[39m.\u001b[39m_forward_hooks \u001b[39mor\u001b[39;00m \u001b[39mself\u001b[39m\u001b[39m.\u001b[39m_forward_pre_hooks \u001b[39mor\u001b[39;00m _global_backward_hooks\n\u001b[1;32m   1129\u001b[0m         \u001b[39mor\u001b[39;00m _global_forward_hooks \u001b[39mor\u001b[39;00m _global_forward_pre_hooks):\n\u001b[0;32m-> 1130\u001b[0m     \u001b[39mreturn\u001b[39;00m forward_call(\u001b[39m*\u001b[39;49m\u001b[39minput\u001b[39;49m, \u001b[39m*\u001b[39;49m\u001b[39m*\u001b[39;49mkwargs)\n\u001b[1;32m   1131\u001b[0m \u001b[39m# Do not call functions when jit is used\u001b[39;00m\n\u001b[1;32m   1132\u001b[0m full_backward_hooks, non_full_backward_hooks \u001b[39m=\u001b[39m [], []\n",
      "File \u001b[0;32m~/anaconda3/envs/BB/lib/python3.9/site-packages/torchvision/models/detection/rpn.py:376\u001b[0m, in \u001b[0;36mRegionProposalNetwork.forward\u001b[0;34m(self, images, features, targets)\u001b[0m\n\u001b[1;32m    374\u001b[0m proposals \u001b[39m=\u001b[39m \u001b[39mself\u001b[39m\u001b[39m.\u001b[39mbox_coder\u001b[39m.\u001b[39mdecode(pred_bbox_deltas\u001b[39m.\u001b[39mdetach(), anchors)\n\u001b[1;32m    375\u001b[0m proposals \u001b[39m=\u001b[39m proposals\u001b[39m.\u001b[39mview(num_images, \u001b[39m-\u001b[39m\u001b[39m1\u001b[39m, \u001b[39m4\u001b[39m)\n\u001b[0;32m--> 376\u001b[0m boxes, scores \u001b[39m=\u001b[39m \u001b[39mself\u001b[39;49m\u001b[39m.\u001b[39;49mfilter_proposals(proposals, objectness, images\u001b[39m.\u001b[39;49mimage_sizes, num_anchors_per_level)\n\u001b[1;32m    378\u001b[0m losses \u001b[39m=\u001b[39m {}\n\u001b[1;32m    379\u001b[0m \u001b[39mif\u001b[39;00m \u001b[39mself\u001b[39m\u001b[39m.\u001b[39mtraining:\n",
      "File \u001b[0;32m~/anaconda3/envs/BB/lib/python3.9/site-packages/torchvision/models/detection/rpn.py:289\u001b[0m, in \u001b[0;36mRegionProposalNetwork.filter_proposals\u001b[0;34m(self, proposals, objectness, image_shapes, num_anchors_per_level)\u001b[0m\n\u001b[1;32m    286\u001b[0m boxes, scores, lvl \u001b[39m=\u001b[39m boxes[keep], scores[keep], lvl[keep]\n\u001b[1;32m    288\u001b[0m \u001b[39m# non-maximum suppression, independently done per level\u001b[39;00m\n\u001b[0;32m--> 289\u001b[0m keep \u001b[39m=\u001b[39m box_ops\u001b[39m.\u001b[39;49mbatched_nms(boxes, scores, lvl, \u001b[39mself\u001b[39;49m\u001b[39m.\u001b[39;49mnms_thresh)\n\u001b[1;32m    291\u001b[0m \u001b[39m# keep only topk scoring predictions\u001b[39;00m\n\u001b[1;32m    292\u001b[0m keep \u001b[39m=\u001b[39m keep[: \u001b[39mself\u001b[39m\u001b[39m.\u001b[39mpost_nms_top_n()]\n",
      "File \u001b[0;32m~/anaconda3/envs/BB/lib/python3.9/site-packages/torchvision/ops/boxes.py:75\u001b[0m, in \u001b[0;36mbatched_nms\u001b[0;34m(boxes, scores, idxs, iou_threshold)\u001b[0m\n\u001b[1;32m     73\u001b[0m     \u001b[39mreturn\u001b[39;00m _batched_nms_vanilla(boxes, scores, idxs, iou_threshold)\n\u001b[1;32m     74\u001b[0m \u001b[39melse\u001b[39;00m:\n\u001b[0;32m---> 75\u001b[0m     \u001b[39mreturn\u001b[39;00m _batched_nms_coordinate_trick(boxes, scores, idxs, iou_threshold)\n",
      "File \u001b[0;32m~/anaconda3/envs/BB/lib/python3.9/site-packages/torch/jit/_trace.py:1127\u001b[0m, in \u001b[0;36m_script_if_tracing.<locals>.wrapper\u001b[0;34m(*args, **kwargs)\u001b[0m\n\u001b[1;32m   1123\u001b[0m \u001b[39m@functools\u001b[39m\u001b[39m.\u001b[39mwraps(fn)\n\u001b[1;32m   1124\u001b[0m \u001b[39mdef\u001b[39;00m \u001b[39mwrapper\u001b[39m(\u001b[39m*\u001b[39margs, \u001b[39m*\u001b[39m\u001b[39m*\u001b[39mkwargs):\n\u001b[1;32m   1125\u001b[0m     \u001b[39mif\u001b[39;00m \u001b[39mnot\u001b[39;00m is_tracing():\n\u001b[1;32m   1126\u001b[0m         \u001b[39m# Not tracing, don't do anything\u001b[39;00m\n\u001b[0;32m-> 1127\u001b[0m         \u001b[39mreturn\u001b[39;00m fn(\u001b[39m*\u001b[39;49margs, \u001b[39m*\u001b[39;49m\u001b[39m*\u001b[39;49mkwargs)\n\u001b[1;32m   1129\u001b[0m     compiled_fn \u001b[39m=\u001b[39m script(wrapper\u001b[39m.\u001b[39m__original_fn)  \u001b[39m# type: ignore[attr-defined]\u001b[39;00m\n\u001b[1;32m   1130\u001b[0m     \u001b[39mreturn\u001b[39;00m compiled_fn(\u001b[39m*\u001b[39margs, \u001b[39m*\u001b[39m\u001b[39m*\u001b[39mkwargs)\n",
      "File \u001b[0;32m~/anaconda3/envs/BB/lib/python3.9/site-packages/torchvision/ops/boxes.py:94\u001b[0m, in \u001b[0;36m_batched_nms_coordinate_trick\u001b[0;34m(boxes, scores, idxs, iou_threshold)\u001b[0m\n\u001b[1;32m     92\u001b[0m offsets \u001b[39m=\u001b[39m idxs\u001b[39m.\u001b[39mto(boxes) \u001b[39m*\u001b[39m (max_coordinate \u001b[39m+\u001b[39m torch\u001b[39m.\u001b[39mtensor(\u001b[39m1\u001b[39m)\u001b[39m.\u001b[39mto(boxes))\n\u001b[1;32m     93\u001b[0m boxes_for_nms \u001b[39m=\u001b[39m boxes \u001b[39m+\u001b[39m offsets[:, \u001b[39mNone\u001b[39;00m]\n\u001b[0;32m---> 94\u001b[0m keep \u001b[39m=\u001b[39m nms(boxes_for_nms, scores, iou_threshold)\n\u001b[1;32m     95\u001b[0m \u001b[39mreturn\u001b[39;00m keep\n",
      "File \u001b[0;32m~/anaconda3/envs/BB/lib/python3.9/site-packages/torchvision/ops/boxes.py:41\u001b[0m, in \u001b[0;36mnms\u001b[0;34m(boxes, scores, iou_threshold)\u001b[0m\n\u001b[1;32m     39\u001b[0m     _log_api_usage_once(nms)\n\u001b[1;32m     40\u001b[0m _assert_has_ops()\n\u001b[0;32m---> 41\u001b[0m \u001b[39mreturn\u001b[39;00m torch\u001b[39m.\u001b[39;49mops\u001b[39m.\u001b[39;49mtorchvision\u001b[39m.\u001b[39;49mnms(boxes, scores, iou_threshold)\n",
      "File \u001b[0;32m~/anaconda3/envs/BB/lib/python3.9/site-packages/torch/_ops.py:143\u001b[0m, in \u001b[0;36mOpOverloadPacket.__call__\u001b[0;34m(self, *args, **kwargs)\u001b[0m\n\u001b[1;32m    138\u001b[0m \u001b[39mdef\u001b[39;00m \u001b[39m__call__\u001b[39m(\u001b[39mself\u001b[39m, \u001b[39m*\u001b[39margs, \u001b[39m*\u001b[39m\u001b[39m*\u001b[39mkwargs):\n\u001b[1;32m    139\u001b[0m     \u001b[39m# overloading __call__ to ensure torch.ops.foo.bar()\u001b[39;00m\n\u001b[1;32m    140\u001b[0m     \u001b[39m# is still callable from JIT\u001b[39;00m\n\u001b[1;32m    141\u001b[0m     \u001b[39m# We save the function ptr as the `op` attribute on\u001b[39;00m\n\u001b[1;32m    142\u001b[0m     \u001b[39m# OpOverloadPacket to access it here.\u001b[39;00m\n\u001b[0;32m--> 143\u001b[0m     \u001b[39mreturn\u001b[39;00m \u001b[39mself\u001b[39;49m\u001b[39m.\u001b[39;49m_op(\u001b[39m*\u001b[39;49margs, \u001b[39m*\u001b[39;49m\u001b[39m*\u001b[39;49mkwargs \u001b[39mor\u001b[39;49;00m {})\n",
      "\u001b[0;31mKeyboardInterrupt\u001b[0m: "
     ]
    }
   ],
   "source": [
    "dataset = MYCN(\"/data_isilon_main/isilon_images/10_MetaSystems/MetaSystemsData/MYCN_SpikeIn/TRAINING_DATA_5K.h5\", \"train\", double_return=True)\n",
    "dataloader = DataLoader(dataset, batch_size=16, shuffle=False)\n",
    "\n",
    "device = best_gpu()\n",
    "model.eval()\n",
    "model.redefine_device(device)\n",
    "areas = []\n",
    "for X, X2, y in tqdm(dataloader):\n",
    "    \n",
    "    y_hat, fs = model(X.to(device), X2.to(device), return_box_fs=True)\n",
    "    fs = fs.reshape(-1, 100, 6)\n",
    "\n",
    "    sizes = torch.tensor([get_cell_bbox(patch) for patch in X2])\n",
    "    areas = torch.tensor([get_bbox_size(patch_fs) for patch_fs in fs])\n",
    "    \n",
    "    portion = torch.clip((areas/sizes), 0, 1)\n",
    "\n",
    "    \n"
   ]
  },
  {
   "cell_type": "code",
   "execution_count": null,
   "metadata": {},
   "outputs": [],
   "source": [
    "plt.imshow(X2[0].numpy().transpose(1,2,0))"
   ]
  },
  {
   "cell_type": "code",
   "execution_count": null,
   "metadata": {},
   "outputs": [],
   "source": []
  }
 ],
 "metadata": {
  "kernelspec": {
   "display_name": "BB",
   "language": "python",
   "name": "python3"
  },
  "language_info": {
   "codemirror_mode": {
    "name": "ipython",
    "version": 3
   },
   "file_extension": ".py",
   "mimetype": "text/x-python",
   "name": "python",
   "nbconvert_exporter": "python",
   "pygments_lexer": "ipython3",
   "version": "3.9.12 (main, Jun  1 2022, 11:38:51) \n[GCC 7.5.0]"
  },
  "orig_nbformat": 4,
  "vscode": {
   "interpreter": {
    "hash": "9d63b14cd6ab63ec18359f1ef4f96f0821945ecd9c555e0a621512114c620b52"
   }
  }
 },
 "nbformat": 4,
 "nbformat_minor": 2
}
